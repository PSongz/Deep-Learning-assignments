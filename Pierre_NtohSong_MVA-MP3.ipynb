{
 "cells": [
  {
   "cell_type": "markdown",
   "metadata": {},
   "source": [
    "## Deep Learning Assignment 3\n",
    "### Pierre Ntoh Song\n",
    "#### Master in Data Sciences and Business Analytics "
   ]
  },
  {
   "cell_type": "code",
   "execution_count": 1,
   "metadata": {},
   "outputs": [
    {
     "name": "stderr",
     "output_type": "stream",
     "text": [
      "C:\\Users\\pierr\\Anaconda3\\lib\\site-packages\\h5py\\__init__.py:36: FutureWarning: Conversion of the second argument of issubdtype from `float` to `np.floating` is deprecated. In future, it will be treated as `np.float64 == np.dtype(float).type`.\n",
      "  from ._conv import register_converters as _register_converters\n",
      "Using TensorFlow backend.\n"
     ]
    }
   ],
   "source": [
    "import keras\n",
    "import numpy as np\n",
    "import io\n",
    "import base64\n",
    "from IPython.display import HTML\n",
    "import skvideo.io\n",
    "import cv2\n",
    "import json\n",
    "\n",
    "from keras.models import Sequential,model_from_json\n",
    "from keras.layers.core import Dense\n",
    "from keras.optimizers import sgd\n",
    "from keras.layers import Conv2D, Flatten, MaxPooling2D, Activation, AveragePooling2D,Reshape,BatchNormalization"
   ]
  },
  {
   "cell_type": "markdown",
   "metadata": {},
   "source": [
    "# MiniProject #3: Deep Reinforcement Learning"
   ]
  },
  {
   "cell_type": "markdown",
   "metadata": {},
   "source": [
    "__Notations__: $E_p$ is the expectation under probability $p$. Please justify each of your answer and widely comment your code."
   ]
  },
  {
   "cell_type": "markdown",
   "metadata": {},
   "source": [
    "# Context"
   ]
  },
  {
   "cell_type": "markdown",
   "metadata": {},
   "source": [
    "In a reinforcement learning algorithm, we modelize each step $t$ as an action $a_t$ obtained from a state $s_t$, i.e. $\\{(a_{t},s_{t})_{t\\leq T}\\}$ having the Markov property. We consider a discount factor $\\gamma \\in [0,1]$ that ensures convergence. The goal is to find among all the policies $\\pi$, one that maximizes the expected reward:\n",
    "\n",
    "\\begin{equation*}\n",
    "R(\\pi)=\\sum_{t\\leq T}E_{p^{\\pi}}[\\gamma^t r(s_{t},a_{t})] \\> ,\n",
    "\\end{equation*}\n",
    "\n",
    "where: \n",
    "\\begin{equation*}p^{\\pi}(a_{0},a_{1},s_{1},...,a_{T},s_{T})=p(a_{0})\\prod_{t=1}^{T}\\pi(a_{t}|s_{t})p(s_{t+1}|s_{t},a_{t}) \\> .\n",
    "\\end{equation*}\n",
    "\n",
    "We note the $Q$-function:\n",
    "\n",
    "\\begin{equation*}Q^\\pi(s,a)=E_{p^{\\pi}}[\\sum_{t\\leq T}\\gamma^{t}r(s_{t},a_{t})|s_{0}=s,a_{0}=a] \\> .\n",
    "\\end{equation*}\n",
    "\n",
    "Thus, the optimal Q function is:\n",
    "\\begin{equation*}\n",
    "Q^*(s,a)=\\max_{\\pi}Q^\\pi(s,a) \\> .\n",
    "\\end{equation*}\n",
    "\n",
    "In this project, we will apply the deep reinforcement learning techniques to a simple game: an agent will have to learn from scratch a policy that will permit it maximizing a reward."
   ]
  },
  {
   "cell_type": "markdown",
   "metadata": {},
   "source": [
    "## The environment, the agent and the game"
   ]
  },
  {
   "cell_type": "markdown",
   "metadata": {},
   "source": [
    "### The environment"
   ]
  },
  {
   "cell_type": "markdown",
   "metadata": {},
   "source": [
    "```Environment``` is an abstract class that represents the states, rewards, and actions to obtain the new state."
   ]
  },
  {
   "cell_type": "code",
   "execution_count": 2,
   "metadata": {
    "collapsed": true
   },
   "outputs": [],
   "source": [
    "class Environment(object):\n",
    "    def __init__(self):\n",
    "        pass\n",
    "\n",
    "    def act(self, act):\n",
    "        \"\"\"\n",
    "        One can act on the environment and obtain its reaction:\n",
    "        - the new state\n",
    "        - the reward of the new state\n",
    "        - should we continue the game?\n",
    "\n",
    "        :return: state, reward, game_over\n",
    "        \"\"\"\n",
    "        pass\n",
    "\n",
    "\n",
    "    def reset(self):\n",
    "        \"\"\"\n",
    "        Reinitialize the environment to a random state and returns\n",
    "        the original state\n",
    "\n",
    "        :return: state\n",
    "        \"\"\"\n",
    "        pass\n",
    "    \n",
    "    def draw(self):\n",
    "        \"\"\"\n",
    "        Visualize in the console or graphically the current state\n",
    "        \"\"\"\n",
    "        pass"
   ]
  },
  {
   "cell_type": "markdown",
   "metadata": {},
   "source": [
    "The method ```act``` allows to act on the environment at a given state $s_t$ (stored internally), via action $a_t$. The method will return the new state $s_{t+1}$, the reward $r(s_{t},a_{t})$ and determines if $t\\leq T$ (*game_over*).\n",
    "\n",
    "The method ```reset``` simply reinitializes the environment to a random state $s_0$.\n",
    "\n",
    "The method ```draw``` displays the current state $s_t$ (this is useful to check the behavior of the Agent).\n",
    "\n",
    "We modelize $s_t$ as a tensor, while $a_t$ is an integer."
   ]
  },
  {
   "cell_type": "markdown",
   "metadata": {},
   "source": [
    "### The Agent"
   ]
  },
  {
   "cell_type": "markdown",
   "metadata": {},
   "source": [
    "The goal of the ```Agent``` is to interact with the ```Environment``` by proposing actions $a_t$ obtained from a given state $s_t$ to attempt to maximize its __reward__ $r(s_t,a_t)$. We propose the following abstract class:"
   ]
  },
  {
   "cell_type": "code",
   "execution_count": 4,
   "metadata": {
    "collapsed": true
   },
   "outputs": [],
   "source": [
    "class Agent(object):\n",
    "    def __init__(self, epsilon=0.1, n_action=4):\n",
    "        self.epsilon = epsilon\n",
    "        self.n_action = n_action\n",
    "    \n",
    "    def set_epsilon(self,e):\n",
    "        self.epsilon = e\n",
    "\n",
    "    def act(self,s,train=True):\n",
    "        \"\"\" This function should return the next action to do:\n",
    "        an integer between 0 and 4 (not included) with a random exploration of epsilon\"\"\"\n",
    "        if train:\n",
    "            if np.random.rand() <= self.epsilon:\n",
    "                a = np.random.randint(0, self.n_action, size=1)[0]\n",
    "            else:\n",
    "                a = self.learned_act(s)\n",
    "        else: # in some cases, this can improve the performance.. remove it if poor performances\n",
    "            a = self.learned_act(s)\n",
    "\n",
    "        return a\n",
    "\n",
    "    def learned_act(self,s):\n",
    "        \"\"\" Act via the policy of the agent, from a given state s\n",
    "        it proposes an action a\"\"\"\n",
    "        pass\n",
    "\n",
    "    def reinforce(self, s, n_s, a, r, game_over_):\n",
    "        \"\"\" This function is the core of the learning algorithm. \n",
    "        It takes as an input the current state s_, the next state n_s_\n",
    "        the action a_ used to move from s_ to n_s_ and the reward r_.\n",
    "        \n",
    "        Its goal is to learn a policy.\n",
    "        \"\"\"\n",
    "        pass\n",
    "\n",
    "    def save(self):\n",
    "        \"\"\" This function returns basic stats if applicable: the\n",
    "        loss and/or the model\"\"\"\n",
    "        pass\n",
    "\n",
    "    def load(self):\n",
    "        \"\"\" This function allows to restore a model\"\"\"\n",
    "        pass"
   ]
  },
  {
   "cell_type": "markdown",
   "metadata": {},
   "source": [
    "***\n",
    "__Question 1__:\n",
    "Explain the function act. Why is ```epsilon``` essential?"
   ]
  },
  {
   "cell_type": "markdown",
   "metadata": {},
   "source": [
    "The function act allows the agent to perform an action and observes the reaction of the environment with regard to this action. A desired action is passed as a parameter to the function, and a new state, a reward and an indicator saying wether the game is over or not are returned. \n",
    "\n",
    "As the reward is defined as $R(\\pi)=\\sum_{t\\leq T}[\\epsilon^t r(s_{t},a_{t})]$, \n",
    "$\\epsilon$ is essential to prevent the agent from getting an infinite reward by taking an infinite number of actions, it also reflects the fact that a reward obtained later is worth less than a reward obtained immidiately "
   ]
  },
  {
   "cell_type": "markdown",
   "metadata": {},
   "source": [
    "***\n",
    "### The Game"
   ]
  },
  {
   "cell_type": "markdown",
   "metadata": {},
   "source": [
    "The ```Agent``` and the ```Environment``` work in an interlaced way as in the following (take some time to understand this code as it is the core of the project)\n",
    "\n",
    "```python\n",
    "\n",
    "epoch = 300\n",
    "env = Environment()\n",
    "agent = Agent()\n",
    "\n",
    "\n",
    "# Number of won games\n",
    "score = 0\n",
    "loss = 0\n",
    "\n",
    "\n",
    "for e in range(epoch):\n",
    "    # At each epoch, we restart to a fresh game and get the initial state\n",
    "    state = env.reset()\n",
    "    # This assumes that the games will end\n",
    "    game_over = False\n",
    "\n",
    "    win = 0\n",
    "    lose = 0\n",
    "    \n",
    "    while not game_over:\n",
    "        # The agent performs an action\n",
    "        action = agent.act(state)\n",
    "\n",
    "        # Apply an action to the environment, get the next state, the reward\n",
    "        # and if the games end\n",
    "        prev_state = state\n",
    "        state, reward, game_over = env.act(action)\n",
    "\n",
    "        # Update the counters\n",
    "        if reward > 0:\n",
    "            win = win + reward\n",
    "        if reward < 0:\n",
    "            lose = lose -reward\n",
    "\n",
    "        # Apply the reinforcement strategy\n",
    "        loss = agent.reinforce(prev_state, state,  action, reward, game_over)\n",
    "\n",
    "    # Save as a mp4\n",
    "    if e % 10 == 0:\n",
    "        env.draw(e)\n",
    "\n",
    "    # Update stats\n",
    "    score += win-lose\n",
    "\n",
    "    print(\"Epoch {:03d}/{:03d} | Loss {:.4f} | Win/lose count {}/{} ({})\"\n",
    "          .format(e, epoch, loss, win, lose, win-lose))\n",
    "    agent.save()\n",
    "```"
   ]
  },
  {
   "cell_type": "markdown",
   "metadata": {},
   "source": [
    "# The game, *eat cheese*"
   ]
  },
  {
   "cell_type": "markdown",
   "metadata": {},
   "source": [
    "A rat runs on an island and tries to eat as much as possible. The island is subdivided into $N\\times N$ cells, in which there are cheese (+0.5) and poisonous cells (-1). The rat has a visibility of 2 cells (thus it can see $5^2$ cells). The rat is given a time $T$ to accumulate as much food as possible. It can perform 4 actions: going up, down, left, right. \n",
    "\n",
    "The goal is to code an agent to solve this task that will learn by trial and error. We propose the following environment:"
   ]
  },
  {
   "cell_type": "code",
   "execution_count": 5,
   "metadata": {
    "collapsed": true
   },
   "outputs": [],
   "source": [
    "class Environment(object):\n",
    "    def __init__(self, grid_size=10, max_time=500, temperature=0.1):\n",
    "        grid_size = grid_size+4\n",
    "        self.grid_size = grid_size\n",
    "        self.max_time = max_time\n",
    "        self.temperature = temperature\n",
    "\n",
    "        #board on which one plays\n",
    "        self.board = np.zeros((grid_size,grid_size))\n",
    "        self.position = np.zeros((grid_size,grid_size))\n",
    "\n",
    "        # coordinate of the cat\n",
    "        self.x = 0\n",
    "        self.y = 1\n",
    "\n",
    "        # self time\n",
    "        self.t = 0\n",
    "\n",
    "        self.scale=16\n",
    "\n",
    "        self.to_draw = np.zeros((max_time+2, grid_size*self.scale, grid_size*self.scale, 3))\n",
    "\n",
    "\n",
    "    def draw(self,e):\n",
    "        skvideo.io.vwrite(str(e) + '.mp4', self.to_draw)\n",
    "\n",
    "    def get_frame(self,t):\n",
    "        b = np.zeros((self.grid_size,self.grid_size,3))+128\n",
    "        b[self.board>0,0] = 256\n",
    "        b[self.board < 0, 2] = 256\n",
    "        b[self.x,self.y,:]=256\n",
    "        b[-2:,:,:]=0\n",
    "        b[:,-2:,:]=0\n",
    "        b[:2,:,:]=0\n",
    "        b[:,:2,:]=0\n",
    "        \n",
    "        b =  cv2.resize(b, None, fx=self.scale, fy=self.scale, interpolation=cv2.INTER_NEAREST)\n",
    "\n",
    "        self.to_draw[t,:,:,:]=b\n",
    "\n",
    "\n",
    "    def act(self, action):\n",
    "        \"\"\"This function returns the new state, reward and decides if the\n",
    "        game ends.\"\"\"\n",
    "\n",
    "        self.get_frame(int(self.t))\n",
    "\n",
    "        self.position = np.zeros((self.grid_size, self.grid_size))\n",
    "\n",
    "        self.position[0:2,:]= -1\n",
    "        self.position[:,0:2] = -1\n",
    "        self.position[-2:, :] = -1\n",
    "        self.position[-2:, :] = -1\n",
    "\n",
    "        self.position[self.x, self.y] = 1\n",
    "        if action == 0:\n",
    "            if self.x == self.grid_size-3:\n",
    "                self.x = self.x-1\n",
    "            else:\n",
    "                self.x = self.x + 1\n",
    "        elif action == 1:\n",
    "            if self.x == 2:\n",
    "                self.x = self.x+1\n",
    "            else:\n",
    "                self.x = self.x-1\n",
    "        elif action == 2:\n",
    "            if self.y == self.grid_size - 3:\n",
    "                self.y = self.y - 1\n",
    "            else:\n",
    "                self.y = self.y + 1\n",
    "        elif action == 3:\n",
    "            if self.y == 2:\n",
    "                self.y = self.y + 1\n",
    "            else:\n",
    "                self.y = self.y - 1\n",
    "        else:\n",
    "            RuntimeError('Error: action not recognized')\n",
    "\n",
    "        self.t = self.t + 1\n",
    "        reward = self.board[self.x, self.y]\n",
    "        self.board[self.x, self.y] = 0\n",
    "        game_over = self.t > self.max_time\n",
    "        state = np.concatenate((self.board.reshape(self.grid_size, self.grid_size,1),\n",
    "                        self.position.reshape(self.grid_size, self.grid_size,1)),axis=2)\n",
    "        state = state[self.x-2:self.x+3,self.y-2:self.y+3,:]\n",
    "\n",
    "        return state, reward, game_over\n",
    "\n",
    "    def reset(self):\n",
    "        \"\"\"This function resets the game and returns the initial state\"\"\"\n",
    "\n",
    "        self.x = np.random.randint(3, self.grid_size-3, size=1)[0]\n",
    "        self.y = np.random.randint(3, self.grid_size-3, size=1)[0]\n",
    "\n",
    "\n",
    "        bonus = 0.5*np.random.binomial(1,self.temperature,size=self.grid_size**2)\n",
    "        bonus = bonus.reshape(self.grid_size,self.grid_size)\n",
    "\n",
    "        malus = -1.0*np.random.binomial(1,self.temperature,size=self.grid_size**2)\n",
    "        malus = malus.reshape(self.grid_size, self.grid_size)\n",
    "\n",
    "        self.to_draw = np.zeros((self.max_time+2, self.grid_size*self.scale, self.grid_size*self.scale, 3))\n",
    "\n",
    "\n",
    "        malus[bonus>0]=0\n",
    "\n",
    "        self.board = bonus + malus\n",
    "\n",
    "        self.position = np.zeros((self.grid_size, self.grid_size))\n",
    "        self.position[0:2,:]= -1\n",
    "        self.position[:,0:2] = -1\n",
    "        self.position[-2:, :] = -1\n",
    "        self.position[-2:, :] = -1\n",
    "        self.board[self.x,self.y] = 0\n",
    "        self.t = 0\n",
    "\n",
    "        state = np.concatenate((\n",
    "                               self.board.reshape(self.grid_size, self.grid_size,1),\n",
    "                        self.position.reshape(self.grid_size, self.grid_size,1)),axis=2)\n",
    "\n",
    "        state = state[self.x - 2:self.x + 3, self.y - 2:self.y + 3, :]\n",
    "        return state"
   ]
  },
  {
   "cell_type": "markdown",
   "metadata": {},
   "source": [
    "The following elements are important because they correspond to the hyper parameters for this project:"
   ]
  },
  {
   "cell_type": "code",
   "execution_count": 6,
   "metadata": {
    "collapsed": true
   },
   "outputs": [],
   "source": [
    "# parameters\n",
    "size = 13\n",
    "T=200\n",
    "temperature=0.3\n",
    "epochs_train=50 # set small when debugging\n",
    "epochs_test=50 # set small when debugging\n",
    "\n",
    "# display videos\n",
    "def display_videos(name):\n",
    "    video = io.open(name, 'r+b').read()\n",
    "    encoded = base64.b64encode(video)\n",
    "    return '''<video alt=\"test\" controls>\n",
    "                <source src=\"data:video/mp4;base64,{0}\" type=\"video/mp4\" />\n",
    "             </video>'''.format(encoded.decode('ascii'))"
   ]
  },
  {
   "cell_type": "markdown",
   "metadata": {},
   "source": [
    "__Question 2__ Explain the use of the arrays ```position``` and ```board```."
   ]
  },
  {
   "cell_type": "markdown",
   "metadata": {},
   "source": [
    "The board table represents the grid of the environment. A position (x,y) is equal to -1 if the cell is poisonous, 0.5 if there is a cheese and 0 otherwise.\n",
    "The position table also represents the grid of the environment but it is used to track the position of the rat. A position (x,y) is equal to 1 if the rat is currently on the cell, 0 otherwise."
   ]
  },
  {
   "cell_type": "markdown",
   "metadata": {},
   "source": [
    "## Random Agent"
   ]
  },
  {
   "cell_type": "markdown",
   "metadata": {},
   "source": [
    "***\n",
    "__Question 3__ Implement a random Agent (only ```learned_act``` needs to be implemented):"
   ]
  },
  {
   "cell_type": "code",
   "execution_count": 7,
   "metadata": {
    "collapsed": true
   },
   "outputs": [],
   "source": [
    "class RandomAgent(Agent):\n",
    "    def __init__(self):\n",
    "        super(RandomAgent, self).__init__()\n",
    "        pass\n",
    "\n",
    "    def learned_act(self, s):\n",
    "        self.a = np.random.randint(0,4)\n",
    "        return self.a"
   ]
  },
  {
   "cell_type": "markdown",
   "metadata": {},
   "source": [
    "***\n",
    "***\n",
    "__Question 4__ Visualize the game moves. You need to fill in the following function for the evaluation:"
   ]
  },
  {
   "cell_type": "code",
   "execution_count": 10,
   "metadata": {
    "collapsed": true
   },
   "outputs": [],
   "source": [
    "def test(agent,env,epochs,prefix=''):\n",
    "    # Number of won games\n",
    "    score = 0\n",
    "        \n",
    "    for e in range(epochs):        \n",
    "        # At each epoch, we restart to a fresh game and get the initial state\n",
    "        state = env.reset()\n",
    "        # This assumes that the games will end\n",
    "        game_over = False\n",
    "\n",
    "        win = 0\n",
    "        lose = 0\n",
    "\n",
    "        while not game_over:\n",
    "            # The agent performs an action\n",
    "            action = agent.act(state, train=False)\n",
    "\n",
    "            # Apply an action to the environment, get the next state, the reward\n",
    "            # and if the games end\n",
    "            prev_state = state\n",
    "            state, reward, game_over = env.act(action)\n",
    "\n",
    "            # Update the counters\n",
    "            if reward > 0:\n",
    "                win = win + reward\n",
    "            if reward < 0:\n",
    "                lose = lose -reward\n",
    "\n",
    "        # Save as a mp4\n",
    "        env.draw(prefix+str(e))\n",
    "\n",
    "        # Update stats\n",
    "        score = score + win-lose\n",
    "\n",
    "        #print(\"Win/lose count {}/{}. Average score ({})\"\n",
    "         #     .format(win, lose, score/(1+e)))\n",
    "            \n",
    "    print('Final score: '+str(score/epochs))"
   ]
  },
  {
   "cell_type": "code",
   "execution_count": 9,
   "metadata": {},
   "outputs": [
    {
     "name": "stdout",
     "output_type": "stream",
     "text": [
      "Win/lose count 1.0/5.0. Average score (-4.0)\n",
      "Win/lose count 1.5/7.0. Average score (-4.75)\n",
      "Win/lose count 2.0/1.0. Average score (-2.8333333333333335)\n",
      "Win/lose count 0.5/0. Average score (-2.0)\n",
      "Win/lose count 1.5/3.0. Average score (-1.9)\n",
      "Final score: -1.9\n"
     ]
    },
    {
     "data": {
      "text/html": [
       "<video alt=\"test\" controls>\n",
       "                <source src=\"data:video/mp4;base64,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\" type=\"video/mp4\" />\n",
       "             </video>"
      ],
      "text/plain": [
       "<IPython.core.display.HTML object>"
      ]
     },
     "execution_count": 9,
     "metadata": {},
     "output_type": "execute_result"
    }
   ],
   "source": [
    "size = 10\n",
    "T = 100\n",
    "temperature = 0.1\n",
    "epochs_test = 5\n",
    "# Initialize the game\n",
    "env = Environment(grid_size=size, max_time=T,temperature=temperature)\n",
    "\n",
    "# Initialize the agent!\n",
    "agent = RandomAgent()\n",
    "\n",
    "test(agent,env,epochs_test,prefix='random')\n",
    "HTML(display_videos('random0.mp4'))"
   ]
  },
  {
   "cell_type": "markdown",
   "metadata": {},
   "source": [
    "***\n",
    "## DQN"
   ]
  },
  {
   "cell_type": "markdown",
   "metadata": {},
   "source": [
    "Let us assume here that $T=\\infty$.\n",
    "\n",
    "***\n",
    "__Question 5__ Let $\\pi$ be a policy, show that:\n",
    "\n",
    "\\begin{equation*}\n",
    "Q^{\\pi}(s,a)=E_{(s',a')\\sim p(.|s,a)}[r(s,a)+\\gamma Q^{\\pi}(s',a')]\n",
    "\\end{equation*}\n",
    "\n",
    "Then, show that for the optimal policy $\\pi^*$ (we assume its existence), the following holds: \n",
    "\n",
    "\\begin{equation*}\n",
    "Q^{*}(s,a)=E_{s'\\sim \\pi^*(.|s,a)}[r(s,a)+\\gamma\\max_{a'}Q^{*}(s',a')].\n",
    "\\end{equation*}\n",
    "Finally, deduce that a plausible objective is:\n",
    "\n",
    "\\begin{equation*}\n",
    "\\mathcal{L}(\\theta)=E_{s' \\sim \\pi^*(.|s,a)}\\Vert r+\\gamma\\max\\max_{a'}Q(s',a',\\theta)-Q(s,a,\\theta)\\Vert^{2}.\n",
    "\\end{equation*}\n",
    "\n",
    "\n"
   ]
  },
  {
   "cell_type": "markdown",
   "metadata": {},
   "source": [
    "The initial definition of the $Q$-function is as follows:\n",
    "\n",
    "\\begin{equation*}Q^\\pi(s,a)=E_{p^{\\pi}}[\\sum_{t\\leq T}\\gamma^{t}r(s_{t},a_{t})|s_{0}=s,a_{0}=a] \\> .\n",
    "\\end{equation*}\n",
    "\n",
    "I. $Q$ represents the expected reward taking action $a$ and then following policy $\\pi$, if the expected reward earned doing action $a$ is exctracted from the sum, the expression can be rewritten as: \n",
    "$Q^\\pi(s,a)=E_{p^{\\pi}}[\\gamma^{t}r(s_{t},a_{t})+\\sum_{t\\leq T}\\gamma^{t+1}r(s_{t+1},a_{t+1})|s_{0}=s,a_{0}=a] = E_{(s',a')\\sim p(.|s,a)}[r(s,a)+\\gamma Q^{\\pi}(s',a')]$\n",
    "\n",
    "\n",
    "With : $(s,a) = (s^{t},a^{t})$ and $(s',a') = (s^{t+1},a^{t+1})$\n",
    "\n",
    "II. The optimal policy aims at maximizing the cumulated reward so: \n",
    "$Q^{*}(s,a) = max[Q^{\\pi}(s,a)]$. To maximize Q, all actions taken after action $a^{t}$ have to bring the maximum reward so:\n",
    "$Q^{*}(s,a)=E_{s'\\sim \\pi^*(.|s,a)}[r(s,a)+\\gamma\\max_{a'}Q^{*}(s',a')]$\n",
    "\n",
    "III. The goal is to find a $Q$ that is the closest to $Q*$, so our goal is to minimize the difference between the first two expressions. If the least square criterion is minimized, the following loss function is obtained : $\\mathcal{L}(\\theta)=E_{s' \\sim \\pi^*(.|s,a)}\\Vert r+\\gamma\\max\\max_{a'}Q(s',a',\\theta)-Q(s,a,\\theta)\\Vert^{2}$"
   ]
  },
  {
   "cell_type": "markdown",
   "metadata": {},
   "source": [
    "***\n",
    "The DQN-learning algorithm relies on these derivations to train the parameters $\\theta$ of a Deep Neural Network:\n",
    "\n",
    "1. At the state $s_t$, select the action $a_t$ with best reward using $Q_t$ and store the results;\n",
    "\n",
    "2. Obtain the new state $s_{t+1}$ from the environment $p$;\n",
    "\n",
    "3. Store $(s_t,a_t,s_{t+1})$;\n",
    "\n",
    "4. Obtain $Q_{t+1}$ by minimizing  $\\mathcal{L}$ from a recovered batch from the previously stored results.\n",
    "\n",
    "***\n",
    "__Question 6__ Implement the class ```Memory``` that stores moves (in a replay buffer) via ```remember``` and provides a ```random_access``` to these. Specify a maximum memory size to avoid side effects. You can for example use a ```list()``` and set by default ```max_memory=100```."
   ]
  },
  {
   "cell_type": "code",
   "execution_count": 11,
   "metadata": {
    "collapsed": true
   },
   "outputs": [],
   "source": [
    "class Memory(object):\n",
    "    def __init__(self, max_memory=100):\n",
    "        self.max_memory = max_memory\n",
    "        self.memory = list()\n",
    "\n",
    "    def remember(self, m):\n",
    "        if len(self.memory) < self.max_memory:\n",
    "            self.memory.append(m)\n",
    "        else:\n",
    "            self.memory = self.memory[1:] #The oldest entry is removed\n",
    "            self.memory.append(m)\n",
    "        pass\n",
    "\n",
    "    def random_access(self):\n",
    "        idx = np.random.randint(0,len(self.memory))\n",
    "        self.ra = self.memory[idx]\n",
    "        return self.ra"
   ]
  },
  {
   "cell_type": "markdown",
   "metadata": {},
   "source": [
    "***\n",
    "The pipeline we will use for training is given below:"
   ]
  },
  {
   "cell_type": "code",
   "execution_count": 12,
   "metadata": {
    "collapsed": true
   },
   "outputs": [],
   "source": [
    "def train(agent,env,epoch,prefix=''):\n",
    "    # Number of won games\n",
    "    score = 0\n",
    "    loss = 0\n",
    "\n",
    "    for e in range(epoch):\n",
    "        # At each epoch, we restart to a fresh game and get the initial state\n",
    "        state = env.reset()\n",
    "        # This assumes that the games will terminate\n",
    "        game_over = False\n",
    "\n",
    "        win = 0\n",
    "        lose = 0\n",
    "\n",
    "        while not game_over:\n",
    "            # The agent performs an action\n",
    "            action = agent.act(state)\n",
    "\n",
    "            # Apply an action to the environment, get the next state, the reward\n",
    "            # and if the games end\n",
    "            prev_state = state\n",
    "            state, reward, game_over = env.act(action)\n",
    "\n",
    "            # Update the counters\n",
    "            if reward > 0:\n",
    "                win = win + reward\n",
    "            if reward < 0:\n",
    "                lose = lose -reward\n",
    "\n",
    "            # Apply the reinforcement strategy\n",
    "            loss = agent.reinforce(prev_state, state,  action, reward, game_over)\n",
    "\n",
    "        # Save as a mp4\n",
    "        if e % 10 == 0:\n",
    "            env.draw(prefix+str(e))\n",
    "\n",
    "        # Update stats\n",
    "        score += win-lose\n",
    "\n",
    "        print(\"Epoch {:03d}/{:03d} | Loss {:.4f} | Win/lose count {}/{} ({})\"\n",
    "              .format(e, epoch, loss, win, lose, win-lose))\n",
    "        agent.save(name_weights=prefix+'model.h5',name_model=prefix+'model.json')"
   ]
  },
  {
   "cell_type": "markdown",
   "metadata": {},
   "source": [
    "***\n",
    "__Question 7__ Implement the DQN training algorithm using a cascade of fully connected layers. You can use different learning rate, batch size or memory size parameters. In particular, the loss might oscillate while the player will start to win the games. You have to find a good criterium."
   ]
  },
  {
   "cell_type": "code",
   "execution_count": 13,
   "metadata": {
    "collapsed": true
   },
   "outputs": [],
   "source": [
    "class DQN(Agent):\n",
    "    def __init__(self, grid_size,  epsilon = 0.1, memory_size=100, batch_size = 16,n_state=2):\n",
    "        super(DQN, self).__init__(epsilon = epsilon)\n",
    "\n",
    "        # Discount for Q learning\n",
    "        self.discount = 0.99\n",
    "        \n",
    "        self.grid_size = grid_size\n",
    "        \n",
    "        # number of state\n",
    "        self.n_state = n_state\n",
    "\n",
    "        # Memory\n",
    "        self.memory = Memory(memory_size)\n",
    "        \n",
    "        # Batch size when learning\n",
    "        self.batch_size = batch_size\n",
    "\n",
    "    def learned_act(self, s):\n",
    "        q = self.model.predict(s.reshape(-1, 5, 5, self.n_state))\n",
    "        return np.argmax(q)\n",
    "\n",
    "    def reinforce(self, s_, n_s_, a_, r_, game_over_):\n",
    "        # Two steps: first memorize the states, second learn from the pool\n",
    "\n",
    "        self.memory.remember([s_, n_s_, a_, r_, game_over_])\n",
    "        \n",
    "        input_states = np.zeros((self.batch_size, 5,5,self.n_state))\n",
    "        target_q = np.zeros((self.batch_size, 4))\n",
    "        \n",
    "        for i in range(self.batch_size):\n",
    "            ## 1. The previous response of the environment is stored in a vector\n",
    "            ## 2. Previous states are stored in the input vector of the NN\n",
    "            ## 3. \n",
    "            [s,ns,a,r,game_over] = self.memory.random_access()\n",
    "\n",
    "            target_q[i] = self.model.predict(s.reshape(-1, 5, 5, self.n_state))\n",
    "            q = self.model.predict(ns.reshape(-1, 5, 5, self.n_state))\n",
    "            if game_over:\n",
    "                target_q[i, a] = r\n",
    "            else:\n",
    "                target_q[i, a] = r + self.discount * np.max(q)\n",
    "            input_states[i] = s \n",
    "        # HINT: Clip the target to avoid exploiding gradients.. -- clipping is a bit tighter\n",
    "        target_q = np.clip(target_q, -3, 3)\n",
    "        l = self.model.train_on_batch(input_states, target_q)\n",
    "        return l\n",
    "\n",
    "    def save(self,name_weights='model.h5',name_model='model.json'):\n",
    "        self.model.save_weights(name_weights, overwrite=True)\n",
    "        with open(name_model, \"w\") as outfile:\n",
    "            json.dump(self.model.to_json(), outfile)\n",
    "            \n",
    "    def load(self,name_weights='model.h5',name_model='model.json'):\n",
    "        with open(name_model, \"r\") as jfile:\n",
    "            model = model_from_json(json.load(jfile))\n",
    "        model.load_weights(name_weights)\n",
    "        model.compile(\"sgd\", \"mse\")\n",
    "        self.model = model\n",
    "\n",
    "            \n",
    "class DQN_FC(DQN):\n",
    "    def __init__(self, *args, lr=0.1,**kwargs):\n",
    "        super(DQN_FC, self).__init__( *args,**kwargs)\n",
    "        model = Sequential()\n",
    "        model.add(Flatten(input_shape=(5, 5, self.n_state)))\n",
    "        model.add(Dense(32, activation = 'relu'))\n",
    "        model.add(Dense(4, activation = 'linear'))\n",
    "        model.compile(sgd(lr=lr, decay=1e-4, momentum=0.0), \"mse\")\n",
    "        self.model = model\n",
    "        "
   ]
  },
  {
   "cell_type": "code",
   "execution_count": 43,
   "metadata": {},
   "outputs": [
    {
     "name": "stdout",
     "output_type": "stream",
     "text": [
      "Epoch 000/050 | Loss 0.0049 | Win/lose count 3.5/1.0 (2.5)\n",
      "Epoch 001/050 | Loss 0.0015 | Win/lose count 4.5/3.0 (1.5)\n",
      "Epoch 002/050 | Loss 0.0039 | Win/lose count 4.5/4.0 (0.5)\n",
      "Epoch 003/050 | Loss 0.0736 | Win/lose count 3.5/2.0 (1.5)\n",
      "Epoch 004/050 | Loss 0.0066 | Win/lose count 3.5/6.0 (-2.5)\n",
      "Epoch 005/050 | Loss 0.0051 | Win/lose count 2.0/6.0 (-4.0)\n",
      "Epoch 006/050 | Loss 0.0136 | Win/lose count 6.5/5.0 (1.5)\n",
      "Epoch 007/050 | Loss 0.0056 | Win/lose count 3.0/1.0 (2.0)\n",
      "Epoch 008/050 | Loss 0.0183 | Win/lose count 5.0/3.0 (2.0)\n",
      "Epoch 009/050 | Loss 0.0211 | Win/lose count 2.0/3.0 (-1.0)\n",
      "Epoch 010/050 | Loss 0.0059 | Win/lose count 3.5/0 (3.5)\n",
      "Epoch 011/050 | Loss 0.0072 | Win/lose count 8.0/3.0 (5.0)\n",
      "Epoch 012/050 | Loss 0.0057 | Win/lose count 4.0/4.0 (0.0)\n",
      "Epoch 013/050 | Loss 0.0046 | Win/lose count 8.0/1.0 (7.0)\n",
      "Epoch 014/050 | Loss 0.0292 | Win/lose count 4.0/1.0 (3.0)\n",
      "Epoch 015/050 | Loss 0.0030 | Win/lose count 5.0/1.0 (4.0)\n",
      "Epoch 016/050 | Loss 0.0025 | Win/lose count 7.5/6.0 (1.5)\n",
      "Epoch 017/050 | Loss 0.0091 | Win/lose count 1.5/4.0 (-2.5)\n",
      "Epoch 018/050 | Loss 0.0045 | Win/lose count 5.0/6.0 (-1.0)\n",
      "Epoch 019/050 | Loss 0.0100 | Win/lose count 6.0/5.0 (1.0)\n",
      "Epoch 020/050 | Loss 0.0154 | Win/lose count 6.0/4.0 (2.0)\n",
      "Epoch 021/050 | Loss 0.0046 | Win/lose count 5.0/1.0 (4.0)\n",
      "Epoch 022/050 | Loss 0.0045 | Win/lose count 4.5/1.0 (3.5)\n",
      "Epoch 023/050 | Loss 0.0054 | Win/lose count 3.0/2.0 (1.0)\n",
      "Epoch 024/050 | Loss 0.0022 | Win/lose count 5.5/1.0 (4.5)\n",
      "Epoch 025/050 | Loss 0.0537 | Win/lose count 1.0/3.0 (-2.0)\n",
      "Epoch 026/050 | Loss 0.0056 | Win/lose count 3.0/2.0 (1.0)\n",
      "Epoch 027/050 | Loss 0.0045 | Win/lose count 3.0/0 (3.0)\n",
      "Epoch 028/050 | Loss 0.0097 | Win/lose count 4.5/2.0 (2.5)\n",
      "Epoch 029/050 | Loss 0.0068 | Win/lose count 1.5/2.0 (-0.5)\n",
      "Epoch 030/050 | Loss 0.0020 | Win/lose count 4.5/5.0 (-0.5)\n",
      "Epoch 031/050 | Loss 0.0013 | Win/lose count 6.5/0 (6.5)\n",
      "Epoch 032/050 | Loss 0.0485 | Win/lose count 10.5/0 (10.5)\n",
      "Epoch 033/050 | Loss 0.0480 | Win/lose count 5.0/3.0 (2.0)\n",
      "Epoch 034/050 | Loss 0.0026 | Win/lose count 2.0/4.0 (-2.0)\n",
      "Epoch 035/050 | Loss 0.0056 | Win/lose count 6.0/1.0 (5.0)\n",
      "Epoch 036/050 | Loss 0.0627 | Win/lose count 7.5/2.0 (5.5)\n",
      "Epoch 037/050 | Loss 0.0064 | Win/lose count 6.5/3.0 (3.5)\n",
      "Epoch 038/050 | Loss 0.0578 | Win/lose count 3.5/1.0 (2.5)\n",
      "Epoch 039/050 | Loss 0.0022 | Win/lose count 5.5/1.0 (4.5)\n",
      "Epoch 040/050 | Loss 0.0049 | Win/lose count 3.0/1.0 (2.0)\n",
      "Epoch 041/050 | Loss 0.0090 | Win/lose count 11.0/1.0 (10.0)\n",
      "Epoch 042/050 | Loss 0.0026 | Win/lose count 5.5/0 (5.5)\n",
      "Epoch 043/050 | Loss 0.0597 | Win/lose count 6.0/4.0 (2.0)\n",
      "Epoch 044/050 | Loss 0.0095 | Win/lose count 2.5/1.0 (1.5)\n",
      "Epoch 045/050 | Loss 0.0042 | Win/lose count 7.5/1.0 (6.5)\n",
      "Epoch 046/050 | Loss 0.0048 | Win/lose count 4.5/0 (4.5)\n",
      "Epoch 047/050 | Loss 0.0041 | Win/lose count 7.0/5.0 (2.0)\n",
      "Epoch 048/050 | Loss 0.0036 | Win/lose count 4.5/4.0 (0.5)\n",
      "Epoch 049/050 | Loss 0.0040 | Win/lose count 12.0/0 (12.0)\n"
     ]
    },
    {
     "data": {
      "text/html": [
       "<video alt=\"test\" controls>\n",
       "                <source src=\"data:video/mp4;base64,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\" type=\"video/mp4\" />\n",
       "             </video>"
      ],
      "text/plain": [
       "<IPython.core.display.HTML object>"
      ]
     },
     "execution_count": 43,
     "metadata": {},
     "output_type": "execute_result"
    }
   ],
   "source": [
    "env = Environment(grid_size=size, max_time=T, temperature=0.3)\n",
    "agent = DQN_FC(size, lr=.1, epsilon = 0.1, memory_size=2000, batch_size = 32)\n",
    "train(agent, env, epochs_train, prefix='fc_train')\n",
    "HTML(display_videos('fc_train40.mp4'))"
   ]
  },
  {
   "cell_type": "markdown",
   "metadata": {},
   "source": [
    "***\n",
    "***\n",
    "__Question 8__ Implement the DQN training algorithm using a CNN (for example, 2 convolutional layers and one final fully connected layer)."
   ]
  },
  {
   "cell_type": "code",
   "execution_count": 14,
   "metadata": {
    "collapsed": true
   },
   "outputs": [],
   "source": [
    "class DQN_CNN(DQN):\n",
    "    def __init__(self, *args,lr=0.1,**kwargs):\n",
    "        super(DQN_CNN, self).__init__(*args,**kwargs)\n",
    "        model = Sequential()\n",
    "        model.add(Conv2D(32,kernel_size=3, activation='relu', input_shape=(5, 5, self.n_state)))\n",
    "        model.add(Conv2D(32,kernel_size=3, activation='relu'))\n",
    "        model.add(Flatten())\n",
    "        model.add(Dense(4, activation=\"linear\"))\n",
    "        model.compile(sgd(lr=lr, decay=1e-4, momentum=0.0), \"mse\")\n",
    "        self.model = model"
   ]
  },
  {
   "cell_type": "code",
   "execution_count": 58,
   "metadata": {},
   "outputs": [
    {
     "name": "stdout",
     "output_type": "stream",
     "text": [
      "Epoch 000/050 | Loss 0.0041 | Win/lose count 3.5/6.0 (-2.5)\n",
      "Epoch 001/050 | Loss 0.0094 | Win/lose count 3.0/5.0 (-2.0)\n",
      "Epoch 002/050 | Loss 0.0097 | Win/lose count 5.0/3.0 (2.0)\n",
      "Epoch 003/050 | Loss 0.0023 | Win/lose count 3.0/2.0 (1.0)\n",
      "Epoch 004/050 | Loss 0.0080 | Win/lose count 6.0/3.0 (3.0)\n",
      "Epoch 005/050 | Loss 0.0040 | Win/lose count 7.0/2.0 (5.0)\n",
      "Epoch 006/050 | Loss 0.0011 | Win/lose count 7.5/1.0 (6.5)\n",
      "Epoch 007/050 | Loss 0.0388 | Win/lose count 4.5/4.0 (0.5)\n",
      "Epoch 008/050 | Loss 0.0058 | Win/lose count 5.0/3.0 (2.0)\n",
      "Epoch 009/050 | Loss 0.0044 | Win/lose count 4.5/4.0 (0.5)\n",
      "Epoch 010/050 | Loss 0.0068 | Win/lose count 7.5/3.0 (4.5)\n",
      "Epoch 011/050 | Loss 0.0029 | Win/lose count 7.0/6.0 (1.0)\n",
      "Epoch 012/050 | Loss 0.0548 | Win/lose count 7.0/2.0 (5.0)\n",
      "Epoch 013/050 | Loss 0.0022 | Win/lose count 6.0/2.0 (4.0)\n",
      "Epoch 014/050 | Loss 0.0030 | Win/lose count 3.0/4.0 (-1.0)\n",
      "Epoch 015/050 | Loss 0.0021 | Win/lose count 6.5/2.0 (4.5)\n",
      "Epoch 016/050 | Loss 0.0030 | Win/lose count 12.0/4.0 (8.0)\n",
      "Epoch 017/050 | Loss 0.0012 | Win/lose count 9.5/4.0 (5.5)\n",
      "Epoch 018/050 | Loss 0.0547 | Win/lose count 13.5/1.0 (12.5)\n",
      "Epoch 019/050 | Loss 0.0013 | Win/lose count 4.0/6.0 (-2.0)\n",
      "Epoch 020/050 | Loss 0.0033 | Win/lose count 10.0/1.0 (9.0)\n",
      "Epoch 021/050 | Loss 0.0032 | Win/lose count 16.0/1.0 (15.0)\n",
      "Epoch 022/050 | Loss 0.0055 | Win/lose count 16.5/1.0 (15.5)\n",
      "Epoch 023/050 | Loss 0.0484 | Win/lose count 21.0/0 (21.0)\n",
      "Epoch 024/050 | Loss 0.0605 | Win/lose count 11.5/2.0 (9.5)\n",
      "Epoch 025/050 | Loss 0.0017 | Win/lose count 7.5/2.0 (5.5)\n",
      "Epoch 026/050 | Loss 0.0023 | Win/lose count 17.5/1.0 (16.5)\n",
      "Epoch 027/050 | Loss 0.0025 | Win/lose count 16.0/4.0 (12.0)\n",
      "Epoch 028/050 | Loss 0.0021 | Win/lose count 8.0/3.0 (5.0)\n",
      "Epoch 029/050 | Loss 0.0030 | Win/lose count 22.0/3.0 (19.0)\n",
      "Epoch 030/050 | Loss 0.0013 | Win/lose count 13.0/3.0 (10.0)\n",
      "Epoch 031/050 | Loss 0.0029 | Win/lose count 17.5/3.0 (14.5)\n",
      "Epoch 032/050 | Loss 0.0015 | Win/lose count 20.5/7.0 (13.5)\n",
      "Epoch 033/050 | Loss 0.0018 | Win/lose count 20.0/3.0 (17.0)\n",
      "Epoch 034/050 | Loss 0.0033 | Win/lose count 20.5/4.0 (16.5)\n",
      "Epoch 035/050 | Loss 0.0021 | Win/lose count 12.0/2.0 (10.0)\n",
      "Epoch 036/050 | Loss 0.0353 | Win/lose count 12.5/2.0 (10.5)\n",
      "Epoch 037/050 | Loss 0.0067 | Win/lose count 20.0/6.0 (14.0)\n",
      "Epoch 038/050 | Loss 0.0037 | Win/lose count 20.5/2.0 (18.5)\n",
      "Epoch 039/050 | Loss 0.0033 | Win/lose count 15.5/1.0 (14.5)\n",
      "Epoch 040/050 | Loss 0.0421 | Win/lose count 22.5/1.0 (21.5)\n",
      "Epoch 041/050 | Loss 0.0048 | Win/lose count 12.0/2.0 (10.0)\n",
      "Epoch 042/050 | Loss 0.0522 | Win/lose count 18.5/4.0 (14.5)\n",
      "Epoch 043/050 | Loss 0.0038 | Win/lose count 18.0/3.0 (15.0)\n",
      "Epoch 044/050 | Loss 0.0033 | Win/lose count 19.5/3.0 (16.5)\n",
      "Epoch 045/050 | Loss 0.0058 | Win/lose count 6.5/2.0 (4.5)\n",
      "Epoch 046/050 | Loss 0.0019 | Win/lose count 14.5/2.0 (12.5)\n",
      "Epoch 047/050 | Loss 0.0034 | Win/lose count 12.0/2.0 (10.0)\n",
      "Epoch 048/050 | Loss 0.0019 | Win/lose count 15.0/5.0 (10.0)\n",
      "Epoch 049/050 | Loss 0.0028 | Win/lose count 15.0/2.0 (13.0)\n"
     ]
    },
    {
     "data": {
      "text/html": [
       "<video alt=\"test\" controls>\n",
       "                <source src=\"data:video/mp4;base64,AAAAIGZ0eXBpc29tAAACAGlzb21pc28yYXZjMW1wNDEAAAAIZnJlZQAAF5FtZGF0AAACrQYF//+p3EXpvebZSLeWLNgg2SPu73gyNjQgLSBjb3JlIDE1NyByMjkzNSA1NDVkZTJmIC0gSC4yNjQvTVBFRy00IEFWQyBjb2RlYyAtIENvcHlsZWZ0IDIwMDMtMjAxOCAtIGh0dHA6Ly93d3cudmlkZW9sYW4ub3JnL3gyNjQuaHRtbCAtIG9wdGlvbnM6IGNhYmFjPTEgcmVmPTMgZGVibG9jaz0xOjA6MCBhbmFseXNlPTB4MToweDExMSBtZT1oZXggc3VibWU9NyBwc3k9MSBwc3lfcmQ9MS4wMDowLjAwIG1peGVkX3JlZj0xIG1lX3JhbmdlPTE2IGNocm9tYV9tZT0xIHRyZWxsaXM9MSA4eDhkY3Q9MCBjcW09MCBkZWFkem9uZT0yMSwxMSBmYXN0X3Bza2lwPTEgY2hyb21hX3FwX29mZnNldD00IHRocmVhZHM9NiBsb29rYWhlYWRfdGhyZWFkcz0xIHNsaWNlZF90aHJlYWRzPTAgbnI9MCBkZWNpbWF0ZT0xIGludGVybGFjZWQ9MCBibHVyYXlfY29tcGF0PTAgY29uc3RyYWluZWRfaW50cmE9MCBiZnJhbWVzPTMgYl9weXJhbWlkPTIgYl9hZGFwdD0xIGJfYmlhcz0wIGRpcmVjdD0xIHdlaWdodGI9MSBvcGVuX2dvcD0wIHdlaWdodHA9MiBrZXlpbnQ9MjUwIGtleWludF9taW49MjUgc2NlbmVjdXQ9NDAgaW50cmFfcmVmcmVzaD0wIHJjX2xvb2thaGVhZD00MCByYz1jcmYgbWJ0cmVlPTEgY3JmPTIzLjAgcWNvbXA9MC42MCBxcG1pbj0wIHFwbWF4PTY5IHFwc3RlcD00IGlwX3JhdGlvPTEuNDAgYXE9MToxLjAwAIAAAAMHZYiEADf//vaH+BTZWBP+Wb/9DX/cj9uPrP1xYyEE31qvIejAGS+1H+b/rFFs6Z6UB/fgCJQAc24ZwpJw4v/ApLdW+BTLYTkVLnX1aIxw4jw34T+srwtQbsVYpK9aMq6zvSDVXbQaf21bKZLCJXiHMTQnMBieOl6Rfb1AyWMWSFTWc4PjR4reRl8tQKiKqQnRCZgwyn5KpOjNgtP8Orj8GUEKdHS2CR+fnWZ55Vf8JRTqqd6gcfx4X6qNT4f+jZnDrZM0/EWBo5AronLpalmmTtpofXrlvsr978kEW3R5iWZiYaY+yem44cYIUmCagbqmtL/l0lAN2yx2q+czKg0mSdQ92CkCmiZMAj3cfxjTpfBeWpwWBDdv+aVg9kdzHYs6lACglSjQpAg5iisz/Hflxe1HXr3RoytqSAWui9J4bfSETpX0Myy3H8eVMhG07IbBeM0E5XLbEbNAd59yjvOl8KwAPdkdMuQ9qptr5PU/2Yp8gzd+eAAADBHblB52G6md/Vy4MaQG4Jmc34Klt4wF92wk3dTUBvbLnTSFjAFnMo83vrPxvv9F07R4fcJMhNHRledEAfkpve9a1iIoF4Q9o7EFR70Eu/wy0gjmbd9DX+4obbhNu2zYhqRYEEYmYgT0HbTQsfZ8V9ne//QMeTx+qlasAAlfAPR9HsIB8NxG2ubpW7xM3bH5aXKTxbqebypiHiCGbWpsAIGPwtJTLEcAOKONabA1ypAbzyOc4/mzinOr2yRcRrvSQ9c7Zb4ZgLBRlrn8tujo4nwbLO1m0Md/4p8KDMvQKECafKUYXW3A6yzxFgqSlrXoII54ENxGjiH/WY6SbH+0UAOSD0ktr6k0hdKft5ZRYdpcIvVKFa+nMY4yzg6tlrlZ8ORKWEIW9xjsS0btn1I9bYKAZ4pF1pSI2wHZd+W0EQCS+KX0Z0D1xV9gLx8dUc6xwaU0P9YtlQGmCnyuUa9YGfDa8IRgj1cfQy96EuQ+MHE7n/EiPDdgqX7u7GJEvDkTTeA1AufwTnHZCAB0mSADcwAAABdBmiJsQz/+nhAEl+c3x13nFr1xH1Q+LAAAABABnkF5Cv8A8oMAyS3+tqmBAAAAGEGaQzwhkymEN//+p4QAvvup+o40JDhFwAAAAB1BmmVJ4Q8mUwU8M//+nhAB3PX36bXuY5zpsVNjdQAAABABnoRqQr8AZIjtzrQwvHlBAAAAGUGahknhDyZTAhv//qeEAE2+On1HGhIcVsEAAAAeQZqoSeEPJlMFETw3//6nhAAyfsH82l3MrNU1ud81AAAAEAGex2pCvwAo7XznWhhefMAAAAAcQZrKSeEPJlMFPDP//p4QAHn9ff0K6NkxbBVSUAAAABABnulqQr8AGcJbTrwBQDeBAAAAGUGa60nhDyZTAhv//qeEAA0/sH+E4LdCrEAAAAAYQZsMSeEPJlMCG//+p4QACKj5jyMT/LgnAAAAHkGbLknhDyZTBRE8N//+p4QACPfHT3ebnJ4Hg3SIywAAABABn01qQr8AB0FcGuPFW3ZhAAAAGEGbUknhDyZTAhn//p4QACGpF+R19/ThYQAAABBBn3BFETwv/wAFQoEVpRv4AAAADgGfj3RCvwAE13HeecafAAAAEAGfkWpCvwAHFZ8xuhyQebkAAAAZQZuTSahBaJlMCGf//p4QACHfEPOt0DJInAAAABhBm7RJ4QpSZTAhv/6nhAAId8dMf4fVuDEAAAAZQZvVSeEOiZTAhv/+p4QACDfRz7mRQkPlQQAAABhBm/dJ4Q8mUwURPDf//qeEAANy6tIMoWAAAAAPAZ4WakK/AARYNYF1/lfBAAAAGUGaGEnhDyZTAh3//qmWAAK776sqszbMUUEAAAAZQZo7SeEPJlMCHf/+qZYAAqnvqyqzNsxTQAAAAA9BnllFETwr/wAENk3Dz0EAAAAQAZ56akK/AAQJYt2K0fdgwAAAAB5Bmn9JqEFomUwIb//+p4QABSPj9Anf88grVMhIuq8AAAAQQZ6dRREsL/8AAxCrxvYSOQAAAA8Bnrx0Qr8ABBbRi4D8+8AAAAAQAZ6+akK/AAQ3NG80xVuZQAAAABpBmqJJqEFsmUwIb//+p4QABT/RP9VvmPyPwQAAABJBnsBFFSwr/wAEN2iF2G+l8ngAAAAQAZ7hakK/AARV5omRNK1MwQAAABlBmuNJqEFsmUwIb//+p4QABUfdTj/D6tyLAAAAE0GbBUnhClJlMFFSw3/+p4QAAScAAAAPAZ8kakK/AAQYNYF1/lzBAAAAEkGbJ0nhDomUwUTDf/6nhAABJwAAABABn0ZqQr8ABAli3YrR92DBAAAAGUGbSEnhDyZTAh3//qmWAAKX8ktLOjqegSAAAAAfQZtsSeEPJlMCHf/+qZYAAoXvq+APA/v3qCoWQpgJYAAAABBBn4pFETwv/wAC/B6H2bohAAAAEAGfqXRCvwAD98MBklv9vEAAAAAQAZ+rakK/AAPiah0Jscmv4AAAABNBm7BJqEFomUwId//+qZYAAJWBAAAADEGfzkURLC//AACygQAAABABn+10Qr8AA+NisYVI5DdxAAAAEAGf72pCvwAD4modCbHJr+AAAAASQZv0SahBbJlMCG///qeEAAEnAAAADEGeEkUVLC//AACygQAAABABnjF0Qr8AA+NisYVI5DdwAAAAEAGeM2pCvwAD4modCbHJr+AAAAAZQZo3SahBbJlMCGf//p4QAAyK+40Lpvux/QAAABJBnlVFFSwr/wAD4vwOilpLCiIAAAAQAZ52akK/AAP4rg1x4q3O4QAAABpBmnhJqEFsmUwIb//+p4QABPfRP9VvmPyUQQAAABhBmplJ4QpSZTAhv/6nhAAFGxWkEIn+XJMAAAAfQZq7SeEOiZTBTRMN//6nhAAFI+P0Cd/zyCtUyEi6rwAAABABntpqQr8ABDc0bzTFW5lAAAAAGUGa3knhDyZTAhv//qeEAAU/0T/Vb5j8j8EAAAASQZ78RRE8K/8ABDdohdhvpfJ5AAAAEAGfHWpCvwAEVeaJkTStTMAAAAAZQZsCSahBaJlMCG///qeEAAVH3U/db471NAAAABBBnyBFESwv/wADJKvG9hH5AAAADwGfX3RCvwAENtCAyS79gAAAABABn0FqQr8ABDZZDD6AkH+JAAAAGkGbREmoQWyZTBRMN//+p4QABUAUHt7qftu0AAAAEAGfY2pCvwAEVeaJkTStTMEAAAAZQZtlSeEKUmUwIb/+p4QAB+zjP9VvmPxz4QAAAB1Bm4dJ4Q6JlMFNEw3//qeEAAf32D+bSCWyDLa7CQAAAA8Bn6ZqQr8ABpiL5m2ZHGkAAAAYQZuqSeEPJlMCG//+p4QAB5/YPXsz4Iv3AAAAEkGfyEURPCv/AAmvTru7+kXdwAAAAA4Bn+lqQr8ACayuu48G7wAAABpBm+tJqEFomUwId//+qZYAA7/tLwtQT+w5oAAAABJBmg9J4QpSZTAh3/6plgAAlYAAAAAMQZ4tRTRML/8AALKBAAAAEAGeTHRCvwAF5zk4jsuzlIEAAAAPAZ5OakK/AAXnOTdZ6tDpAAAAE0GaU0moQWiZTAh3//6plgAAlYAAAAAMQZ5xRREsL/8AALKAAAAAEAGekHRCvwAF5zk4jsuzlIEAAAAPAZ6SakK/AAXnOTdZ6tDpAAAAE0Gal0moQWyZTAh3//6plgAAlYAAAAAMQZ61RRUsL/8AALKBAAAAEAGe1HRCvwAF5zk4jsuzlIAAAAAPAZ7WakK/AAXnOTdZ6tDpAAAAEkGa20moQWyZTAhv//6nhAABJwAAAAxBnvlFFSwv/wAAsoAAAAAQAZ8YdEK/AAYh5N0dt8OOgQAAAA8BnxpqQr8ABec5N1nq0OkAAAAZQZseSahBbJlMCG///qeEAAdH2D17M+CMBwAAABFBnzxFFSwr/wAGIZua4ywg2wAAAA4Bn11qQr8ABiCQzJuVNgAAABxBm19JqEFsmUwId//+qZYABZPkGaAPUkDh/jLwAAAAGUGbYknhClJlMCHf/qmWAAW3SyszyEpDTrUAAAAPQZ+ARTRMK/8ACSybhx9AAAAADwGfoWpCvwAJMGsC6/xNQQAAABlBm6ZJqEFomUwId//+qZYACMFHtWDNAKngAAAADkGfxEURLC//AAqFARqRAAAAEAGf43RCvwAJEsW7Lqv4VsEAAAAQAZ/lakK/AA4pqHP8y3hZwQAAABxBm+pJqEFsmUwId//+qZYABb/fV98YVAtFMQ9bAAAAEEGeCEUVLC//AAbARxnc0eAAAAAQAZ4ndEK/AAlu47ytlD2tgAAAAA8BnilqQr8ACW2td33fNMEAAAATQZouSahBbJlMCHf//qmWAACVgAAAAAxBnkxFFSwv/wAAsoAAAAAQAZ5rdEK/AAlwgDn9aBzUwQAAABABnm1qQr8ACW2td1kMOamBAAAAE0GackmoQWyZTAh3//6plgAAlYEAAAAMQZ6QRRUsL/8AALKAAAAAEAGer3RCvwAJcIA5/Wgc1MAAAAAQAZ6xakK/AAltrXdZDDmpgQAAABNBmrZJqEFsmUwId//+qZYAAJWAAAAADEGe1EUVLC//AACygAAAABABnvN0Qr8ACXCAOf1oHNTBAAAAEAGe9WpCvwAJba13WQw5qYAAAAAaQZr5SahBbJlMCHf//qmWAAXb5BmgD0l9mJEAAAAPQZ8XRRUsK/8ACWyuBOrBAAAADQGfOGpCvwAJcGsPF1YAAAAbQZs9SahBbJlMCG///qeEAAuvxp/H9BaQtG4RAAAAFEGfW0UVLC//AAboRxx7G6vOZ51AAAAAEAGfenRCvwAJruO8rZQ9qYEAAAAPAZ98akK/AAZIi+ZtmRx9AAAAHEGbYUmoQWyZTAhn//6eEAAcb19/ULe5rj606SAAAAAQQZ+fRRUsL/8ABFc/c4WduAAAAA8Bn750Qr8ABfklEKYJXYEAAAAQAZ+gakK/AAYhm5rjxVt/YAAAABlBm6JJqEFsmUwIZ//+nhAAE1EOP54L+SZtAAAAGEGbw0nhClJlMCGf/p4QABPa9xoXTfdg1AAAABhBm+RJ4Q6JlMCGf/6eEAAUavcaF033YK0AAAAYQZoFSeEPJlMCGf/+nhAAFPr3GhdN92CNAAAAGEGaJknhDyZTAhv//qeEAAWHFaQQif5cewAAABhBmkdJ4Q8mUwIb//6nhAAFqxWkEIn+XHMAAAAZQZpoSeEPJlMCHf/+qZYAAu2llcZpf2xKwAAAABJBmoxJ4Q8mUwId//6plgAAlYAAAAAMQZ6qRRE8L/8AALKBAAAADwGeyXRCvwAE13HdHbfDzwAAAA8BnstqQr8ABKlSN1nq0U4AAAATQZrQSahBaJlMCHf//qmWAACVgQAAAAxBnu5FESwv/wAAsoEAAAAPAZ8NdEK/AATXcd0dt8PPAAAADwGfD2pCvwAEqVI3WerRTgAAABNBmxRJqEFsmUwId//+qZYAAJWAAAAADEGfMkUVLC//AACygQAAAA8Bn1F0Qr8ABNdx3R23w88AAAAPAZ9TakK/AASpUjdZ6tFOAAAAE0GbWEmoQWyZTAh3//6plgAAlYEAAAAMQZ92RRUsL/8AALKAAAAADwGflXRCvwAEqVI4jsuz1wAAABABn5dqQr8AB0DUOf5lvGLBAAAAE0GbnEmoQWyZTAh3//6plgAAlYAAAAAMQZ+6RRUsL/8AALKBAAAADwGf2XRCvwAE13HdHbfDzwAAAA8Bn9tqQr8ABKlSN1nq0U8AAAASQZvASahBbJlMCG///qeEAAEnAAAADEGf/kUVLC//AACygAAAAA8Bnh10Qr8ABKlSOI7Ls9cAAAAPAZ4fakK/AASpUjdZ6tFPAAAAGkGaAUmoQWyZTAh3//6plgAC8e+rKrM2zErAAAAAF0GaJEnhClJlMCHf/qmWAALuE5UY/WqFAAAAEUGeQkU0TCv/AAS3YrBISuFDAAAADgGeY2pCvwAEt2TFcCwNAAAAE0GaaEmoQWiZTAh3//6plgAAlYEAAAAMQZ6GRREsL/8AALKBAAAADwGepXRCvwAE13HdHbfDzwAAAA8BnqdqQr8ABKlSN1nq0U4AAAATQZqsSahBbJlMCHf//qmWAACVgAAAAAxBnspFFSwv/wAAsoEAAAAPAZ7pdEK/AATXcd0dt8PPAAAADwGe62pCvwAEqVI3WerRTgAAABNBmvBJqEFsmUwId//+qZYAAJWBAAAADEGfDkUVLC//AACygQAAAA8Bny10Qr8ABNdx3R23w88AAAAPAZ8vakK/AASpUjdZ6tFOAAAAHEGbNEmoQWyZTAhv//6nhAAIqPmqazbmvHT7ZKgAAAAQQZ9SRRUsL/8ABUKBFaUb+QAAAA4Bn3F0Qr8ABNdx3nnGnwAAABABn3NqQr8ABxWfMbockHm4AAAAGkGbdUmoQWyZTAh3//6plgAEZ+POlnR1PM/BAAAAGUGbmEnhClJlMCHf/qmWAARH486WdHU80cAAAAAPQZ+2RTRMK/8ABuiNA6HBAAAADwGf12pCvwAGwsWBdf41oQAAABxBm9xJqEFomUwIb//+p4QACDfRz8fzLNU1uZV0AAAAEEGf+kURLC//AAT5lgnyAsEAAAAQAZ4ZdEK/AAbAAAMkt/s4QAAAAA8BnhtqQr8ABFXmiakqmYEAAAAeQZofSahBbJlMCG///qeEAAWz26eZZYmR3w882vZrAAAAEkGePUUVLCv/AASXa4N4bLN1XAAAABABnl5qQr8ABJdiPJcz5YaAAAAAGUGaQkmoQWyZTAhv//6nhAAFzxWkEIn+XGsAAAAPQZ5gRRUsK/8ABLZNw8TAAAAADQGegWpCvwAEuDSLficAAAASQZqGSahBbJlMCGf//p4QAAR8AAAADEGepEUVLC//AACygQAAAA8BnsN0Qr8ABNdx3R23w88AAAAPAZ7FakK/AASpUjdZ6tFPAAAAGkGayUuoQhBbJEYIKAfyAf2HgCFf/jhAABFxAAAAJ0Ge50UVLCv/Aq9j7UHE3arDSSblqoYHLLW7zSogmiynBbLkcQwaTAAAACMBnwhqQr8Cr2PtQcTdqsNJJuWqhgcstbvNKiCaLKcci1kzgAAAC9Btb292AAAAbG12aGQAAAAAAAAAAAAAAAAAAAPoAAAfkAABAAABAAAAAAAAAAAAAAAAAQAAAAAAAAAAAAAAAAAAAAEAAAAAAAAAAAAAAAAAAEAAAAAAAAAAAAAAAAAAAAAAAAAAAAAAAAAAAAAAAAACAAAK+nRyYWsAAABcdGtoZAAAAAMAAAAAAAAAAAAAAAEAAAAAAAAfkAAAAAAAAAAAAAAAAAAAAAAAAQAAAAAAAAAAAAAAAAAAAAEAAAAAAAAAAAAAAAAAAEAAAAABEAAAARAAAAAAACRlZHRzAAAAHGVsc3QAAAAAAAAAAQAAH5AAAAQAAAEAAAAACnJtZGlhAAAAIG1kaGQAAAAAAAAAAAAAAAAAADIAAAGUAFXEAAAAAAAtaGRscgAAAAAAAAAAdmlkZQAAAAAAAAAAAAAAAFZpZGVvSGFuZGxlcgAAAAodbWluZgAAABR2bWhkAAAAAQAAAAAAAAAAAAAAJGRpbmYAAAAcZHJlZgAAAAAAAAABAAAADHVybCAAAAABAAAJ3XN0YmwAAACVc3RzZAAAAAAAAAABAAAAhWF2YzEAAAAAAAAAAQAAAAAAAAAAAAAAAAAAAAABEAEQAEgAAABIAAAAAAAAAAEAAAAAAAAAAAAAAAAAAAAAAAAAAAAAAAAAAAAAAAAAAAAY//8AAAAvYXZjQwH0AA3/4QAXZ/QADZGbKCIR0IAAAAMAgAAAGQeKFMsBAAVo6+PESAAAABhzdHRzAAAAAAAAAAEAAADKAAACAAAAABRzdHNzAAAAAAAAAAEAAAABAAAFqGN0dHMAAAAAAAAAswAAAAEAAAQAAAAAAQAABgAAAAABAAACAAAAAAEAAAQAAAAAAQAABgAAAAABAAACAAAAAAEAAAQAAAAAAQAABgAAAAABAAACAAAAAAEAAAYAAAAAAQAAAgAAAAACAAAEAAAAAAEAAAYAAAAAAQAAAgAAAAABAAAKAAAAAAEAAAQAAAAAAQAAAAAAAAABAAACAAAAAAMAAAQAAAAAAQAABgAAAAABAAACAAAAAAEAAAQAAAAAAQAACAAAAAACAAACAAAAAAEAAAoAAAAAAQAABAAAAAABAAAAAAAAAAEAAAIAAAAAAQAACAAAAAACAAACAAAAAAEAAAQAAAAAAQAABgAAAAABAAACAAAAAAEAAAYAAAAAAQAAAgAAAAABAAAEAAAAAAEAAAoAAAAAAQAABAAAAAABAAAAAAAAAAEAAAIAAAAAAQAACgAAAAABAAAEAAAAAAEAAAAAAAAAAQAAAgAAAAABAAAKAAAAAAEAAAQAAAAAAQAAAAAAAAABAAACAAAAAAEAAAgAAAAAAgAAAgAAAAACAAAEAAAAAAEAAAYAAAAAAQAAAgAAAAABAAAIAAAAAAIAAAIAAAAAAQAACgAAAAABAAAEAAAAAAEAAAAAAAAAAQAAAgAAAAABAAAGAAAAAAEAAAIAAAAAAQAABAAAAAABAAAGAAAAAAEAAAIAAAAAAQAACAAAAAACAAACAAAAAAEAAAQAAAAAAQAACgAAAAABAAAEAAAAAAEAAAAAAAAAAQAAAgAAAAABAAAKAAAAAAEAAAQAAAAAAQAAAAAAAAABAAACAAAAAAEAAAoAAAAAAQAABAAAAAABAAAAAAAAAAEAAAIAAAAAAQAACgAAAAABAAAEAAAAAAEAAAAAAAAAAQAAAgAAAAABAAAIAAAAAAIAAAIAAAAAAQAABAAAAAABAAAIAAAAAAIAAAIAAAAAAQAACgAAAAABAAAEAAAAAAEAAAAAAAAAAQAAAgAAAAABAAAKAAAAAAEAAAQAAAAAAQAAAAAAAAABAAACAAAAAAEAAAoAAAAAAQAABAAAAAABAAAAAAAAAAEAAAIAAAAAAQAACgAAAAABAAAEAAAAAAEAAAAAAAAAAQAAAgAAAAABAAAKAAAAAAEAAAQAAAAAAQAAAAAAAAABAAACAAAAAAEAAAgAAAAAAgAAAgAAAAABAAAKAAAAAAEAAAQAAAAAAQAAAAAAAAABAAACAAAAAAEAAAoAAAAAAQAABAAAAAABAAAAAAAAAAEAAAIAAAAABwAABAAAAAABAAAKAAAAAAEAAAQAAAAAAQAAAAAAAAABAAACAAAAAAEAAAoAAAAAAQAABAAAAAABAAAAAAAAAAEAAAIAAAAAAQAACgAAAAABAAAEAAAAAAEAAAAAAAAAAQAAAgAAAAABAAAKAAAAAAEAAAQAAAAAAQAAAAAAAAABAAACAAAAAAEAAAoAAAAAAQAABAAAAAABAAAAAAAAAAEAAAIAAAAAAQAACgAAAAABAAAEAAAAAAEAAAAAAAAAAQAAAgAAAAABAAAEAAAAAAEAAAgAAAAAAgAAAgAAAAABAAAKAAAAAAEAAAQAAAAAAQAAAAAAAAABAAACAAAAAAEAAAoAAAAAAQAABAAAAAABAAAAAAAAAAEAAAIAAAAAAQAACgAAAAABAAAEAAAAAAEAAAAAAAAAAQAAAgAAAAABAAAKAAAAAAEAAAQAAAAAAQAAAAAAAAABAAACAAAAAAEAAAQAAAAAAQAACAAAAAACAAACAAAAAAEAAAoAAAAAAQAABAAAAAABAAAAAAAAAAEAAAIAAAAAAQAACAAAAAACAAACAAAAAAEAAAgAAAAAAgAAAgAAAAABAAAKAAAAAAEAAAQAAAAAAQAAAAAAAAABAAACAAAAAAEAAAgAAAAAAgAAAgAAAAAcc3RzYwAAAAAAAAABAAAAAQAAAMoAAAABAAADPHN0c3oAAAAAAAAAAAAAAMoAAAW8AAAAGwAAABQAAAAcAAAAIQAAABQAAAAdAAAAIgAAABQAAAAgAAAAFAAAAB0AAAAcAAAAIgAAABQAAAAcAAAAFAAAABIAAAAUAAAAHQAAABwAAAAdAAAAHAAAABMAAAAdAAAAHQAAABMAAAAUAAAAIgAAABQAAAATAAAAFAAAAB4AAAAWAAAAFAAAAB0AAAAXAAAAEwAAABYAAAAUAAAAHQAAACMAAAAUAAAAFAAAABQAAAAXAAAAEAAAABQAAAAUAAAAFgAAABAAAAAUAAAAFAAAAB0AAAAWAAAAFAAAAB4AAAAcAAAAIwAAABQAAAAdAAAAFgAAABQAAAAdAAAAFAAAABMAAAAUAAAAHgAAABQAAAAdAAAAIQAAABMAAAAcAAAAFgAAABIAAAAeAAAAFgAAABAAAAAUAAAAEwAAABcAAAAQAAAAFAAAABMAAAAXAAAAEAAAABQAAAATAAAAFgAAABAAAAAUAAAAEwAAAB0AAAAVAAAAEgAAACAAAAAdAAAAEwAAABMAAAAdAAAAEgAAABQAAAAUAAAAIAAAABQAAAAUAAAAEwAAABcAAAAQAAAAFAAAABQAAAAXAAAAEAAAABQAAAAUAAAAFwAAABAAAAAUAAAAFAAAAB4AAAATAAAAEQAAAB8AAAAYAAAAFAAAABMAAAAgAAAAFAAAABMAAAAUAAAAHQAAABwAAAAcAAAAHAAAABwAAAAcAAAAHQAAABYAAAAQAAAAEwAAABMAAAAXAAAAEAAAABMAAAATAAAAFwAAABAAAAATAAAAEwAAABcAAAAQAAAAEwAAABQAAAAXAAAAEAAAABMAAAATAAAAFgAAABAAAAATAAAAEwAAAB4AAAAbAAAAFQAAABIAAAAXAAAAEAAAABMAAAATAAAAFwAAABAAAAATAAAAEwAAABcAAAAQAAAAEwAAABMAAAAgAAAAFAAAABIAAAAUAAAAHgAAAB0AAAATAAAAEwAAACAAAAAUAAAAFAAAABMAAAAiAAAAFgAAABQAAAAdAAAAEwAAABEAAAAWAAAAEAAAABMAAAATAAAAHgAAACsAAAAnAAAAFHN0Y28AAAAAAAAAAQAAADAAAABidWR0YQAAAFptZXRhAAAAAAAAACFoZGxyAAAAAAAAAABtZGlyYXBwbAAAAAAAAAAAAAAAAC1pbHN0AAAAJal0b28AAAAdZGF0YQAAAAEAAAAATGF2ZjU4LjIwLjEwMA==\" type=\"video/mp4\" />\n",
       "             </video>"
      ],
      "text/plain": [
       "<IPython.core.display.HTML object>"
      ]
     },
     "execution_count": 58,
     "metadata": {},
     "output_type": "execute_result"
    }
   ],
   "source": [
    "env = Environment(grid_size=size, max_time=T, temperature=0.3)\n",
    "agent = DQN_CNN(size, lr=.1, epsilon = 0.1, memory_size=2000, batch_size = 32)\n",
    "train(agent,env,epochs_train,prefix='cnn_train')\n",
    "HTML(display_videos('cnn_train10.mp4'))"
   ]
  },
  {
   "cell_type": "markdown",
   "metadata": {},
   "source": [
    "***\n",
    "***\n",
    "__Question 9__ Test both algorithms and compare their performances. Which issue(s) do you observe? Observe also different behaviors by changing the temperature."
   ]
  },
  {
   "cell_type": "markdown",
   "metadata": {},
   "source": [
    "The CNN algorithm works better than the FCL one. One of the main problem is that often the agent is surounded by several blue blocks (negative ones) and doesn't know what to do. The agent starts to oscilate and is using actions without earning any reward. This could be resolved by exploring the map beforehand.\n",
    "Rising the temperature is providing better results."
   ]
  },
  {
   "cell_type": "code",
   "execution_count": 15,
   "metadata": {},
   "outputs": [
    {
     "name": "stdout",
     "output_type": "stream",
     "text": [
      "Temperature: 0.1\n",
      "Test of the CNN\n",
      "Final score: 0.925\n",
      "Test of the FC\n",
      "Final score: -0.375\n",
      "Temperature: 0.2\n",
      "Test of the CNN\n",
      "Final score: 1.8\n",
      "Test of the FC\n",
      "Final score: -0.45\n",
      "Temperature: 0.3\n",
      "Test of the CNN\n",
      "Final score: 2.8\n",
      "Test of the FC\n",
      "Final score: -0.25\n",
      "Temperature: 0.4\n",
      "Test of the CNN\n",
      "Final score: 3.45\n",
      "Test of the FC\n",
      "Final score: -0.9\n",
      "Temperature: 0.5\n",
      "Test of the CNN\n",
      "Final score: 3.5\n",
      "Test of the FC\n",
      "Final score: -0.1\n",
      "Temperature: 0.6\n",
      "Test of the CNN\n",
      "Final score: 5.225\n",
      "Test of the FC\n",
      "Final score: -0.2\n",
      "Temperature: 0.7\n",
      "Test of the CNN\n",
      "Final score: 6.225\n",
      "Test of the FC\n",
      "Final score: 0.725\n",
      "Temperature: 0.8\n",
      "Test of the CNN\n",
      "Final score: 8.875\n",
      "Test of the FC\n",
      "Final score: 2.0\n",
      "Temperature: 0.9\n",
      "Test of the CNN\n",
      "Final score: 13.425\n",
      "Test of the FC\n",
      "Final score: 1.25\n"
     ]
    }
   ],
   "source": [
    "epochs_test = 20\n",
    "temperature = [0.1,0.2,0.3,0.4,0.5,0.6,0.7,0.8,0.9]\n",
    "for tt in temperature:\n",
    "    print('Temperature: ' +str(tt))\n",
    "    env = Environment(grid_size=size, max_time=T,temperature=tt)\n",
    "    agent_cnn = DQN_CNN(size, lr=.1, epsilon = 0.1, memory_size=2000, batch_size = 32)\n",
    "    agent_cnn.load(name_weights='cnn_trainmodel.h5',name_model='cnn_trainmodel.json')\n",
    "\n",
    "    agent_fc = DQN_FC(size, lr=.1, epsilon = 0.1, memory_size=2000, batch_size = 32)\n",
    "    agent_cnn.load(name_weights='fc_trainmodel.h5',name_model='fc_trainmodel.json')\n",
    "    print('Test of the CNN')\n",
    "    test(agent_cnn,env,epochs_test,prefix='cnn_test')\n",
    "    print('Test of the FC')\n",
    "    test(agent_fc,env,epochs_test,prefix='fc_test')"
   ]
  },
  {
   "cell_type": "code",
   "execution_count": 16,
   "metadata": {},
   "outputs": [
    {
     "data": {
      "text/html": [
       "<video alt=\"test\" controls>\n",
       "                <source src=\"data:video/mp4;base64,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\" type=\"video/mp4\" />\n",
       "             </video>"
      ],
      "text/plain": [
       "<IPython.core.display.HTML object>"
      ]
     },
     "execution_count": 16,
     "metadata": {},
     "output_type": "execute_result"
    }
   ],
   "source": [
    "HTML(display_videos('cnn_test20.mp4'))"
   ]
  },
  {
   "cell_type": "code",
   "execution_count": 17,
   "metadata": {},
   "outputs": [
    {
     "data": {
      "text/html": [
       "<video alt=\"test\" controls>\n",
       "                <source src=\"data:video/mp4;base64,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\" type=\"video/mp4\" />\n",
       "             </video>"
      ],
      "text/plain": [
       "<IPython.core.display.HTML object>"
      ]
     },
     "execution_count": 17,
     "metadata": {},
     "output_type": "execute_result"
    }
   ],
   "source": [
    "HTML(display_videos('fc_test10.mp4'))"
   ]
  },
  {
   "cell_type": "markdown",
   "metadata": {},
   "source": []
  },
  {
   "cell_type": "markdown",
   "metadata": {},
   "source": [
    "***\n",
    "\n",
    "The algorithm tends to not explore the map which can be an issue. We propose two ideas in order to encourage exploration:\n",
    "1. Incorporating a decreasing $\\epsilon$-greedy exploration. You can use the method ```set_epsilon```\n",
    "2. Append via the environment a new state that describes if a cell has been visited or not\n",
    "\n",
    "***\n",
    "__Question 10__ Design a new ```train_explore``` function and environment class ```EnvironmentExploring``` to tackle the issue of exploration.\n",
    "\n"
   ]
  },
  {
   "cell_type": "code",
   "execution_count": null,
   "metadata": {
    "collapsed": true
   },
   "outputs": [],
   "source": [
    "def train_explore(agent,env,epoch,prefix=''):\n",
    "    pass\n",
    "        \n",
    "class EnvironmentExploring(object):\n",
    "    def __init__(self, grid_size=10, max_time=500, temperature=0.1):\n",
    "        pass\n",
    "    \n",
    "## use those samples of code:\n",
    "#In train explore:\n",
    "state, reward, game_over = env.act(action, train=True)\n",
    "\n",
    "## In Environment exploring:\n",
    "# You will have to change n_state to 3 because you will use one more layer!\n",
    "reward = 0\n",
    "if train:\n",
    "    reward = -self.malus_position[self.x, self.y]\n",
    "self.malus_position[self.x, self.y] = 0.1\n",
    "\n",
    "reward = reward + self.board[self.x, self.y]\n",
    "# 3 \"feature\" states instead of 2\n",
    "state = np.concatenate((self.malus_position.reshape(self.grid_size, self.grid_size,1),\n",
    "                                self.board.reshape(self.grid_size, self.grid_size,1),\n",
    "                        self.position.reshape(self.grid_size, self.grid_size,1)),axis=2)"
   ]
  },
  {
   "cell_type": "code",
   "execution_count": null,
   "metadata": {
    "collapsed": true
   },
   "outputs": [],
   "source": [
    "# Training\n",
    "env = EnvironmentExploring(grid_size=size, max_time=T, temperature=0.3)\n",
    "agent = DQN_CNN(size, lr=.1, epsilon = 0.1, memory_size=2000, batch_size = 32,n_state=3)\n",
    "train_explore(agent, env, epochs_train, prefix='cnn_train_explore')\n",
    "HTML(display_videos('cnn_train_explore10.mp4'))"
   ]
  },
  {
   "cell_type": "code",
   "execution_count": null,
   "metadata": {
    "collapsed": true
   },
   "outputs": [],
   "source": [
    "# Evaluation\n",
    "test(agent,env,epochs_test,prefix='cnn_test_explore')\n",
    "HTML(display_videos('cnn_test_explore10.mp4'))"
   ]
  },
  {
   "cell_type": "markdown",
   "metadata": {},
   "source": [
    "***\n",
    "***\n",
    "__BONUS question__ Use the expert DQN from the previous question to generate some winning games. Train a model that mimicks its behavior. Compare the performances."
   ]
  },
  {
   "cell_type": "markdown",
   "metadata": {},
   "source": []
  },
  {
   "cell_type": "markdown",
   "metadata": {},
   "source": [
    "***"
   ]
  }
 ],
 "metadata": {
  "kernelspec": {
   "display_name": "Python 3",
   "language": "python",
   "name": "python3"
  },
  "language_info": {
   "codemirror_mode": {
    "name": "ipython",
    "version": 3
   },
   "file_extension": ".py",
   "mimetype": "text/x-python",
   "name": "python",
   "nbconvert_exporter": "python",
   "pygments_lexer": "ipython3",
   "version": "3.6.3"
  }
 },
 "nbformat": 4,
 "nbformat_minor": 2
}
